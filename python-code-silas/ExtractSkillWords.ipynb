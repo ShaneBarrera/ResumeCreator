{
 "cells": [
  {
   "attachments": {},
   "cell_type": "markdown",
   "metadata": {},
   "source": [
    "We came up with the idea to Make a tailored resume creator after I spoke with Rob Kairuz from the UF career Counseling Center about updating my own resume. He told me that you should really tailor each resume to the job posting that you are applying for so as to have the best chance of getting past the automatic resume scanners. We had a group meeting and all agreed that it was a good idea for our final project.\n",
    "\n",
    "Next I interviewed Rob as to all of the things such a program might need. I wanted to start by taking a job posting and extracting “skill words” from it. Rob mentioned that most skill words were nouns like organization, initiative, creativity etc; and, verbs like editing, writing, programming, ect.\n",
    "\n",
    "The group met up and brainstormed ways we could extract skill words from resumes. One suggested method was using natural language processing. Another was using chat GPT. Both have advantages and downsides. Chat GPT is accurate but expensive because API queries cost a couple of cents each. I opted to use natural language processing which is less accurate but does not require a chat GPT API key.\n",
    "\n",
    "I used the natural language toolkit (NLTK) for python to do a grammatical analysis of job postings."
   ]
  },
  {
   "cell_type": "code",
   "execution_count": 4,
   "metadata": {},
   "outputs": [],
   "source": [
    "example_posting = '''Job Opening Summary\n",
    "The DSS analyst will play a key role in delivering essential data through providing high-level reporting and analytics for key quality improvement, patient safety and service initiatives. This position will provide ad hoc reporting, maintain standard reporting and forecast key business processes using various systems, databases and tools, including MS Office Suite, MS SQL Server, MS Visual Studio and SAP Business Objects.\n",
    "\n",
    "This position will work with physicians and data science teams to manage and analyze data pertaining to the needs of assigned projects. The incumbent will communicate and explain complex data and information to leaders at all levels of the organization.\n",
    "\n",
    "This role reports to the manager of DSS (reporting) and interfaces with a wide customer base from unit managers to executive leadership, providing insights on both business and clinical operations. Builds and maintains positive relationships with clients while utilizing industry and subject-matter best practices. Translates data for reports, which requires a keen understanding of the health care business, operational processes and the ability to perform complex analyses using data resources and technical tools.\n",
    "\n",
    "Job Opening Qualifications\n",
    "Minimum Education and Experience Requirements:\n",
    "\n",
    "Minimum Education:\n",
    "\n",
    "Bachelor's degree in STEM (science, technology, engineering and math).\n",
    "Business analytics or a related field required.\n",
    "\n",
    "\n",
    "Minimum Job Experience:\n",
    "\n",
    "Two years of health care data analysis experience with in-depth knowledge of health care operations required. An advanced degree may substitute as health care data analysis experience on a year-for-year basis.\n",
    "Job-Related Knowledge, Skills and Abilities:\n",
    "\n",
    "Strong problem-solving, quantitative and analytical abilities.\n",
    "Experience with large relational databases and data warehousing, including the ability to query database using SQL or similar language.\n",
    "Mastery of business intelligence report writing and visualization tools, such as Epic Analytics, Business Objects (WebI), Power BI, Tableau or similar report writing and visualization tools.\n",
    "Advanced Excel spreadsheet skills, including complex functions, formulas and formatting.\n",
    "Proven ability to work with and track large amounts of data (millions of records) with accuracy.\n",
    "Excellent communication, collaboration and delegation skills.\n",
    "Demonstrated ability to communicate information in an easy-to-understand format.\n",
    "\n",
    "\n",
    "Motor Vehicle Operator Designation:\n",
    "\n",
    "Employees in the position will operate vehicles for an assigned business purpose as a \"non-frequent driver.\"\n",
    "\n",
    "\n",
    "Licensure/Certification/Registration::\n",
    "\n",
    "To be completed within six months of hire: clinical data model train track (proficiency).\n",
    "#LI-90\n",
    "\n",
    "Shift hours: 8 a.m. - 5 p.m., Monday-Friday\n",
    "'''"
   ]
  },
  {
   "cell_type": "code",
   "execution_count": 8,
   "metadata": {},
   "outputs": [
    {
     "name": "stdout",
     "output_type": "stream",
     "text": [
      "['Job', 'Opening', 'Summary', 'DSS', 'analyst', 'play', 'role', 'delivering', 'data', 'providing', 'reporting', 'analytics', 'quality', 'improvement', 'safety', 'service', 'initiatives', 'position', 'provide', 'ad', 'hoc', 'reporting', 'maintain', 'reporting', 'forecast', 'key', 'business', 'processes', 'using', 'systems', 'databases', 'tools', 'including', 'MS', 'Office', 'Suite', 'MS', 'SQL', 'Server', 'MS', 'Visual', 'Studio', 'SAP', 'Business', 'Objects', 'position', 'work', 'physicians', 'data', 'science', 'teams', 'manage', 'analyze', 'data', 'pertaining', 'needs', 'projects', 'incumbent', 'communicate', 'explain', 'data', 'information', 'leaders', 'levels', 'organization', 'role', 'reports', 'manager', 'DSS', 'reporting', 'interfaces', 'customer', 'base', 'unit', 'managers', 'executive', 'leadership', 'providing', 'insights', 'business', 'operations', 'Builds', 'maintains', 'relationships', 'clients', 'utilizing', 'industry', 'practices', 'Translates', 'data', 'reports', 'requires', 'understanding', 'health', 'care', 'business', 'processes', 'ability', 'perform', 'analyses', 'using', 'data', 'resources', 'tools', 'Job', 'Opening', 'Qualifications', 'Minimum', 'Education', 'Experience', 'Requirements', 'Education', 'Bachelor', 'degree', 'STEM', 'science', 'technology', 'engineering', 'math', 'analytics', 'field', 'required', 'Experience', 'years', 'health', 'care', 'data', 'analysis', 'experience', 'knowledge', 'health', 'care', 'operations', 'required', 'degree', 'substitute', 'health', 'care', 'data', 'analysis', 'experience', 'basis', 'Knowledge', 'Skills', 'Abilities', 'problem-solving', 'abilities', 'Experience', 'databases', 'data', 'warehousing', 'including', 'ability', 'query', 'database', 'using', 'SQL', 'language', 'Mastery', 'business', 'intelligence', 'report', 'writing', 'visualization', 'tools', 'Epic', 'Analytics', 'Business', 'Objects', 'WebI', 'Power', 'BI', 'Tableau', 'report', 'writing', 'visualization', 'tools', 'Advanced', 'Excel', 'spreadsheet', 'skills', 'including', 'functions', 'formulas', 'formatting', 'Proven', 'ability', 'work', 'track', 'amounts', 'data', 'millions', 'records', 'accuracy', 'communication', 'collaboration', 'delegation', 'skills', 'Demonstrated', 'ability', 'communicate', 'information', 'format', 'Motor', 'Vehicle', 'Operator', 'Designation', 'Employees', 'position', 'operate', 'vehicles', 'business', 'purpose', 'driver', 'Licensure/Certification/Registration', 'be', 'completed', 'months', 'hire', 'data', 'model', 'train', 'track', 'proficiency', 'Shift', 'hours', 'p.m.']\n"
     ]
    },
    {
     "data": {
      "text/plain": [
       "227"
      ]
     },
     "execution_count": 8,
     "metadata": {},
     "output_type": "execute_result"
    }
   ],
   "source": [
    "import nltk\n",
    "\n",
    "tokens = nltk.word_tokenize(example_posting)\n",
    "pos_tags = nltk.pos_tag(tokens)\n",
    "\n",
    "noun_verb = []\n",
    "\n",
    "for word, tag in pos_tags:\n",
    "    if tag.startswith('N') or tag.startswith('V'):\n",
    "        noun_verb.append(word)\n",
    "\n",
    "print(noun_verb)\n",
    "len(noun_verb)"
   ]
  },
  {
   "attachments": {},
   "cell_type": "markdown",
   "metadata": {},
   "source": [
    "But after some research I learned that nltk has much more specific categories than just nouns and verbs.\n",
    "\n",
    "### Types of nouns\n",
    "- NN: Noun, singular or mass\n",
    "- NNS: Noun, plural\n",
    "- NNP: Proper noun, singular\n",
    "- NNPS: Proper noun, plural\n",
    "\n",
    "### Types of verbs\n",
    "- VB: Verb, base form\n",
    "- VBD: Verb, past tense\n",
    "- VBG: Verb, gerund or present participle\n",
    "- VBN: Verb, past participle\n",
    "- VBP: Verb, non-3rd person singular present\n",
    "- VBZ: Verb, 3rd person singular present\n",
    "\n",
    "### Types of adjectives\n",
    "- JJ: Adjective\n",
    "- JJR: Adjective, comparative\n",
    "- JJS: Adjective, superlative"
   ]
  },
  {
   "cell_type": "code",
   "execution_count": 24,
   "metadata": {},
   "outputs": [
    {
     "name": "stdout",
     "output_type": "stream",
     "text": [
      "Types of nouns ----------------------------------------------------\n",
      "NN: ['Job', 'Opening', 'Summary', 'DSS', 'analyst', 'role', 'data', 'reporting', 'analytics', 'quality', 'improvement', 'safety', 'service', 'initiatives', 'position', 'ad', 'hoc', 'reporting', 'reporting', 'forecast', 'key', 'business', 'systems', 'databases', 'tools', 'MS', 'Office', 'Suite', 'MS', 'SQL', 'Server', 'MS', 'Visual', 'Studio', 'SAP', 'Business', 'Objects', 'position', 'physicians', 'data', 'science', 'teams', 'data', 'needs', 'projects', 'incumbent', 'data', 'information', 'leaders', 'levels', 'organization', 'role', 'manager', 'DSS', 'interfaces', 'customer', 'base', 'unit', 'managers', 'leadership', 'insights', 'business', 'operations', 'Builds', 'maintains', 'relationships', 'clients', 'industry', 'practices', 'data', 'reports', 'understanding', 'health', 'care', 'business', 'processes', 'ability', 'analyses', 'data', 'resources', 'tools', 'Job', 'Opening', 'Qualifications', 'Minimum', 'Education', 'Experience', 'Requirements', 'Education', 'Bachelor', 'degree', 'STEM', 'science', 'technology', 'engineering', 'math', 'analytics', 'field', 'Experience', 'years', 'health', 'care', 'data', 'analysis', 'experience', 'knowledge', 'health', 'care', 'operations', 'degree', 'health', 'care', 'data', 'analysis', 'experience', 'basis', 'Knowledge', 'Skills', 'Abilities', 'problem-solving', 'abilities', 'Experience', 'databases', 'data', 'warehousing', 'ability', 'database', 'SQL', 'language', 'Mastery', 'business', 'intelligence', 'report', 'visualization', 'tools', 'Epic', 'Analytics', 'Business', 'Objects', 'WebI', 'Power', 'BI', 'Tableau', 'report', 'writing', 'visualization', 'tools', 'Advanced', 'Excel', 'spreadsheet', 'skills', 'functions', 'formulas', 'Proven', 'ability', 'amounts', 'data', 'millions', 'records', 'accuracy', 'communication', 'collaboration', 'delegation', 'skills', 'ability', 'information', 'format', 'Motor', 'Vehicle', 'Operator', 'Designation', 'Employees', 'position', 'vehicles', 'business', 'purpose', 'driver', 'Licensure/Certification/Registration', 'months', 'hire', 'data', 'model', 'train', 'track', 'proficiency', 'Shift', 'hours', 'p.m.']\n",
      "Length of NN list is: 188\n",
      "NNS: ['data', 'analytics', 'initiatives', 'systems', 'databases', 'tools', 'physicians', 'data', 'teams', 'data', 'needs', 'projects', 'data', 'leaders', 'levels', 'interfaces', 'managers', 'insights', 'operations', 'Builds', 'maintains', 'relationships', 'clients', 'practices', 'data', 'reports', 'processes', 'analyses', 'data', 'resources', 'tools', 'Requirements', 'analytics', 'years', 'data', 'operations', 'data', 'abilities', 'databases', 'data', 'tools', 'tools', 'skills', 'functions', 'formulas', 'amounts', 'data', 'millions', 'records', 'skills', 'Employees', 'vehicles', 'months', 'data', 'hours']\n",
      "Length of NNS list is: 55\n",
      "NNP: ['Job', 'Opening', 'Summary', 'DSS', 'MS', 'Office', 'Suite', 'MS', 'SQL', 'Server', 'MS', 'Visual', 'Studio', 'SAP', 'Business', 'Objects', 'DSS', 'Job', 'Opening', 'Qualifications', 'Minimum', 'Education', 'Experience', 'Bachelor', 'STEM', 'Knowledge', 'Skills', 'Abilities', 'SQL', 'Mastery', 'Epic', 'Analytics', 'Business', 'Objects', 'WebI', 'Power', 'BI', 'Tableau', 'Advanced', 'Excel', 'Proven', 'Motor', 'Vehicle', 'Operator', 'Designation', 'Shift']\n",
      "Length of NNP list is: 46\n",
      "NNPS: ['Objects', 'Abilities']\n",
      "Length of NNPS list is: 2\n",
      "Types of verbs ----------------------------------------------------\n",
      "VB: ['play', 'delivering', 'providing', 'provide', 'maintain', 'processes', 'using', 'including', 'work', 'manage', 'analyze', 'pertaining', 'communicate', 'explain', 'reports', 'reporting', 'executive', 'providing', 'utilizing', 'Translates', 'requires', 'perform', 'using', 'required', 'required', 'substitute', 'including', 'query', 'using', 'writing', 'including', 'formatting', 'work', 'track', 'Demonstrated', 'communicate', 'operate', 'be', 'completed']\n",
      "Length of VB list is: 39\n",
      "VBD: []\n",
      "Length of VBD list is: 0\n",
      "VBG: ['delivering', 'providing', 'using', 'including', 'pertaining', 'reporting', 'providing', 'utilizing', 'using', 'including', 'using', 'writing', 'including', 'formatting']\n",
      "Length of VBG list is: 14\n",
      "VBN: ['required', 'required', 'Demonstrated', 'completed']\n",
      "Length of VBN list is: 4\n",
      "VBP: ['maintain']\n",
      "Length of VBP list is: 1\n",
      "VBZ: ['processes', 'reports', 'Translates', 'requires']\n",
      "Length of VBZ list is: 4\n",
      "Types of adjectives ----------------------------------------------------\n",
      "JJ: ['key', 'essential', 'high-level', 'key', 'patient', 'standard', 'various', 'assigned', 'complex', 'wide', 'clinical', 'positive', 'subject-matter', 'keen', 'operational', 'complex', 'technical', 'Minimum', 'Business', 'related', 'Minimum', 'Job', 'in-depth', 'advanced', 'year-for-year', 'Job-Related', 'Strong', 'quantitative', 'analytical', 'large', 'relational', 'similar', 'such', 'similar', 'complex', 'large', 'Excellent', 'easy-to-understand', 'assigned', 'non-frequent', 'clinical', 'LI-90', 'Monday-Friday']\n",
      "Length of JJ list is: 43\n",
      "JJR: []\n",
      "Length of JJR list is: 0\n",
      "JJS: []\n",
      "Length of JJS list is: 0\n"
     ]
    }
   ],
   "source": [
    "def get_all(pos_tags, input_tag):\n",
    "    words_with_tag  = []\n",
    "\n",
    "    for word, tag in pos_tags:\n",
    "        if tag.startswith(input_tag):\n",
    "            words_with_tag.append(word)\n",
    "\n",
    "    print(f\"{input_tag}: {words_with_tag}\")\n",
    "    print(f\"Length of {input_tag} list is: {len(words_with_tag)}\")\n",
    "\n",
    "'''\n",
    "### Types of nouns\n",
    "- NN: Noun, singular or mass\n",
    "- NNS: Noun, plural\n",
    "- NNP: Proper noun, singular\n",
    "- NNPS: Proper noun, plural\n",
    "'''\n",
    "print(\"Types of nouns ----------------------------------------------------\")\n",
    "get_all(pos_tags, 'NN')\n",
    "get_all(pos_tags, 'NNS')\n",
    "get_all(pos_tags, 'NNP')\n",
    "get_all(pos_tags, 'NNPS')\n",
    "'''\n",
    "### Types of verbs\n",
    "- VB: Verb, base form\n",
    "- VBD: Verb, past tense\n",
    "- VBG: Verb, gerund or present participle\n",
    "- VBN: Verb, past participle\n",
    "- VBP: Verb, non-3rd person singular present\n",
    "- VBZ: Verb, 3rd person singular present\n",
    "'''\n",
    "print(\"Types of verbs ----------------------------------------------------\")\n",
    "get_all(pos_tags, 'VB')\n",
    "get_all(pos_tags, 'VBD')\n",
    "get_all(pos_tags, 'VBG')\n",
    "get_all(pos_tags, 'VBN')\n",
    "get_all(pos_tags, 'VBP')\n",
    "get_all(pos_tags, 'VBZ')\n",
    "'''\n",
    "### Types of adjectives\n",
    "- JJ: Adjective\n",
    "- JJR: Adjective, comparative\n",
    "- JJS: Adjective, superlative\n",
    "'''\n",
    "print(\"Types of adjectives ----------------------------------------------------\")\n",
    "get_all(pos_tags, 'JJ')\n",
    "get_all(pos_tags, 'JJR')\n",
    "get_all(pos_tags, 'JJS')"
   ]
  },
  {
   "attachments": {},
   "cell_type": "markdown",
   "metadata": {},
   "source": [
    "Which of these words best map to so called \"skill words\"?"
   ]
  },
  {
   "cell_type": "code",
   "execution_count": 27,
   "metadata": {},
   "outputs": [
    {
     "name": "stdout",
     "output_type": "stream",
     "text": [
      "['play', 'key', 'delivering', 'essential', 'providing', 'high-level', 'key', 'patient', 'provide', 'maintain', 'standard', 'processes', 'using', 'various', 'including', 'work', 'manage', 'analyze', 'pertaining', 'assigned', 'communicate', 'explain', 'complex', 'reports', 'reporting', 'wide', 'executive', 'providing', 'clinical', 'positive', 'utilizing', 'subject-matter', 'Translates', 'requires', 'keen', 'operational', 'perform', 'complex', 'using', 'technical', 'Minimum', 'Business', 'related', 'required', 'Minimum', 'Job', 'in-depth', 'required', 'advanced', 'substitute', 'year-for-year', 'Job-Related', 'Strong', 'quantitative', 'analytical', 'large', 'relational', 'including', 'query', 'using', 'similar', 'writing', 'such', 'similar', 'including', 'complex', 'formatting', 'work', 'track', 'large', 'Excellent', 'Demonstrated', 'communicate', 'easy-to-understand', 'operate', 'assigned', 'non-frequent', 'be', 'completed', 'clinical', 'LI-90', 'Monday-Friday']\n"
     ]
    },
    {
     "data": {
      "text/plain": [
       "82"
      ]
     },
     "execution_count": 27,
     "metadata": {},
     "output_type": "execute_result"
    }
   ],
   "source": [
    "my_list = []\n",
    "\n",
    "tag_1 = 'VB'\n",
    "tag_2 = 'JJ'\n",
    "tag_3 = 'VBG'\n",
    "# ect.\n",
    "\n",
    "for word, tag in pos_tags:\n",
    "    if tag.startswith(tag_1) or tag.startswith(tag_2) or tag.startswith(tag_3): # ect.\n",
    "        my_list.append(word)\n",
    "\n",
    "print(my_list)\n",
    "len(my_list)"
   ]
  }
 ],
 "metadata": {
  "kernelspec": {
   "display_name": "Python 3",
   "language": "python",
   "name": "python3"
  },
  "language_info": {
   "codemirror_mode": {
    "name": "ipython",
    "version": 3
   },
   "file_extension": ".py",
   "mimetype": "text/x-python",
   "name": "python",
   "nbconvert_exporter": "python",
   "pygments_lexer": "ipython3",
   "version": "3.10.6"
  },
  "orig_nbformat": 4
 },
 "nbformat": 4,
 "nbformat_minor": 2
}
